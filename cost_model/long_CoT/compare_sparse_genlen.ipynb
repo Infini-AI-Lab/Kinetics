{
 "cells": [
  {
   "cell_type": "code",
   "execution_count": 2,
   "metadata": {},
   "outputs": [],
   "source": [
    "import os\n",
    "import numpy as np\n",
    "import ast\n",
    "import pandas as pd\n",
    "import matplotlib.pyplot as plt\n",
    "import seaborn as sns\n",
    "import matplotlib.ticker as ticker\n",
    "from collections import Counter\n",
    "from tqdm import tqdm\n",
    "sns.set_theme(style=\"white\")\n",
    "colors = ['#66c2a5', '#fc8d62', '#8da0cb', '#e78ac3', '#a6d854', 'gray']\n"
   ]
  },
  {
   "cell_type": "code",
   "execution_count": 17,
   "metadata": {},
   "outputs": [],
   "source": [
    "task = \"aime24\"\n",
    "model = \"qwen3-8b\"\n",
    "\n",
    "model_sizes = {\n",
    "    \"qwen3-32b\": 32,\n",
    "    \"qwen3-8b\": 8,\n",
    "    \"qwen3-4b\": 4,\n",
    "    \"qwen3-14b\": 14,\n",
    "    \"qwen3-1-7b\": 1.7,\n",
    "    \"qwen3-0-6b\": 0.6\n",
    "}\n",
    "gen_len_budgets = [\n",
    "    2048, 4096, 6144, 8192, 10240, 12288, 14336, 16384,\n",
    "    18432, 20480, 22528, 24576, 26624, 28672, 30720, 32768\n",
    "]\n",
    "root_dir = \".\""
   ]
  },
  {
   "cell_type": "code",
   "execution_count": 11,
   "metadata": {},
   "outputs": [],
   "source": [
    "dense_df = pd.read_csv(f\"{root_dir}/{task}/dense/{task}_{model}_dense_genlen_tradeoff.csv\")\n",
    "\n",
    "max_cost = dense_df[\"total_cost\"].max()\n",
    "min_cost = dense_df[\"total_cost\"].min() / 10\n",
    "cost_points = np.logspace(np.log10(min_cost), np.log10(max_cost), 100)\n",
    "\n",
    "delta = 0.001\n",
    "covs = []\n",
    "covs = []\n",
    "for i, cost in enumerate(cost_points):\n",
    "    best_covs = []\n",
    "    for query_id in dense_df[\"query_id\"].unique():\n",
    "        query_df = dense_df[dense_df[\"query_id\"] == query_id]\n",
    "        best_coverage = query_df[query_df[\"total_cost\"] <= cost][\"coverage\"]\n",
    "        if len(best_coverage) > 0:\n",
    "            best_cov = best_coverage.max()\n",
    "            best_covs.append(best_cov)\n",
    "        else:\n",
    "            best_covs.append(0)\n",
    "    covs.append(np.mean(best_covs))"
   ]
  },
  {
   "cell_type": "code",
   "execution_count": null,
   "metadata": {},
   "outputs": [],
   "source": [
    "all_sparse_covs = {}\n",
    "    \n",
    "for sparsity in [\"topk\", \"blocktopk\"]:\n",
    "    \n",
    "    sparse_df = pd.concat([\n",
    "        pd.read_csv(f\"{root_dir}/{task}/{sparsity}/{fname}\")\n",
    "        for fname in os.listdir(f\"{root_dir}/{task}/{sparsity}\")\n",
    "        if fname.endswith(\"_genlen_tradeoff.csv\") and model in fname\n",
    "    ])\n",
    "    print(len(sparse_df))\n",
    "    \n",
    "    sparse_covs = []\n",
    "    \n",
    "    for i, cost in enumerate(cost_points):\n",
    "        best_covs = []\n",
    "        best_genlen = []\n",
    "        best_budgets = []\n",
    "        median_generation_lengths = []\n",
    "        for query_id in sparse_df[\"query_id\"].unique():\n",
    "            query_df = sparse_df[sparse_df[\"query_id\"] == query_id]\n",
    "            best_coverage = query_df[query_df[\"total_cost\"] <= cost][\"coverage\"]\n",
    "            if len(best_coverage) > 0:\n",
    "                cur_best_cov = best_coverage.max()\n",
    "                best_covs.append(cur_best_cov)\n",
    "                cur_best_df = query_df[query_df[\"coverage\"] >= cur_best_cov * (1 - delta)]\n",
    "                min_cost_df = cur_best_df[cur_best_df[\"total_cost\"] == cur_best_df[\"total_cost\"].min()]\n",
    "                best_genlen.append(min_cost_df[\"generation_length\"].values[0])\n",
    "                best_budgets.append(min_cost_df[\"budget\"].values[0])\n",
    "            else:\n",
    "                best_covs.append(0)\n",
    "                best_genlen.append(0)\n",
    "                best_budgets.append(0)\n",
    "                median_generation_lengths.append(0)\n",
    "        sparse_covs.append(np.mean(best_covs))\n",
    "\n",
    "    all_sparse_covs[sparsity] = sparse_covs\n"
   ]
  },
  {
   "cell_type": "code",
   "execution_count": null,
   "metadata": {},
   "outputs": [],
   "source": [
    "plt.figure(figsize=(12, 8))\n",
    "sns.lineplot(x=cost_points, y=covs, label=\"dense\", linewidth=4, color=colors[0])\n",
    "for j, sparsity in enumerate([\"topk\", \"blocktopk\"]):\n",
    "    sns.lineplot(x=cost_points, y=all_sparse_covs[sparsity], label=sparsity, linewidth=4, color=colors[j+1])\n",
    "plt.xscale(\"log\")\n",
    "plt.xlabel(\"Tera-eflops\", fontsize=28)\n",
    "plt.ylabel(\"Solving Rate\", fontsize=28)\n",
    "plt.xticks(fontsize=28)\n",
    "plt.yticks(fontsize=28)\n",
    "plt.legend(fontsize=23)\n",
    "plt.grid(True, which=\"both\", ls=\"-\", alpha=0.5)\n",
    "ax = plt.gca()\n",
    "\n",
    "for spine in ax.spines.values():\n",
    "    spine.set_visible(False)\n",
    "plt.tight_layout()\n",
    "plt.savefig(f\"{root_dir}/{task}/{task}_{model}_sparse_method_comparison_genlen.pdf\")"
   ]
  }
 ],
 "metadata": {
  "kernelspec": {
   "display_name": "llama_factory",
   "language": "python",
   "name": "python3"
  },
  "language_info": {
   "codemirror_mode": {
    "name": "ipython",
    "version": 3
   },
   "file_extension": ".py",
   "mimetype": "text/x-python",
   "name": "python",
   "nbconvert_exporter": "python",
   "pygments_lexer": "ipython3",
   "version": "3.10.16"
  }
 },
 "nbformat": 4,
 "nbformat_minor": 2
}
